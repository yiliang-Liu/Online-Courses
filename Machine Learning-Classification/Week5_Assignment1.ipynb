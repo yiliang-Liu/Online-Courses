{
 "cells": [
  {
   "cell_type": "markdown",
   "metadata": {},
   "source": [
    "### Exploring Ensemble Methods\n",
    "\n",
    "In this homework we will explore the use of boosting. For this assignment, we will use the pre-implemented gradient boosted trees in Graphlab-Create. You will:\n",
    "\n",
    "Use SFrames to do some feature engineering.\n",
    "\n",
    "Train a boosted ensemble of decision-trees (gradient boosted trees) on the lending club dataset.\n",
    "\n",
    "Predict whether a loan will default along with prediction probabilities (on a validation set).\n",
    "\n",
    "Evaluate the trained model and compare it with a baseline.\n",
    "\n",
    "Find the most positive and negative loans using the learned model.\n",
    "\n",
    "Explore how the number of trees influences classification performance."
   ]
  },
  {
   "cell_type": "code",
   "execution_count": 105,
   "metadata": {},
   "outputs": [],
   "source": [
    "import pandas as pd\n",
    "import numpy as np\n",
    "import matplotlib.pyplot as plt\n",
    "from jupyterthemes import jtplot\n",
    "jtplot.style()"
   ]
  },
  {
   "cell_type": "code",
   "execution_count": 20,
   "metadata": {},
   "outputs": [
    {
     "name": "stderr",
     "output_type": "stream",
     "text": [
      "f:\\anaconda\\lib\\site-packages\\IPython\\core\\interactiveshell.py:2728: DtypeWarning: Columns (19,47) have mixed types. Specify dtype option on import or set low_memory=False.\n",
      "  interactivity=interactivity, compiler=compiler, result=result)\n"
     ]
    }
   ],
   "source": [
    "loans = pd.read_csv('lending-club-data.csv')"
   ]
  },
  {
   "cell_type": "markdown",
   "metadata": {},
   "source": [
    "### Modifying the target column\n",
    "\n",
    "The target column (label column) of the dataset that we are interested in is called bad_loans. In this column 1 means a risky (bad) loan 0 means a safe loan.\n",
    "\n",
    "In order to make this more intuitive and consistent with the lectures, we reassign the target to be:\n",
    "\n",
    "+1 as a safe loan\n",
    "\n",
    "-1 as a risky (bad) loan\n",
    "\n",
    "We put this in a new column called safe_loans."
   ]
  },
  {
   "cell_type": "code",
   "execution_count": 21,
   "metadata": {},
   "outputs": [],
   "source": [
    "# safe_loans =  1 => safe\n",
    "# safe_loans = -1 => risky\n",
    "loans['safe_loans'] = loans['bad_loans'].apply(lambda x: 1 if x == 0 else -1)"
   ]
  },
  {
   "cell_type": "code",
   "execution_count": 22,
   "metadata": {},
   "outputs": [],
   "source": [
    "loans.drop('bad_loans', axis=1, inplace=True)"
   ]
  },
  {
   "cell_type": "code",
   "execution_count": 23,
   "metadata": {},
   "outputs": [
    {
     "data": {
      "text/plain": [
       "False"
      ]
     },
     "execution_count": 23,
     "metadata": {},
     "output_type": "execute_result"
    }
   ],
   "source": [
    "'bad_loans' in loans.columns"
   ]
  },
  {
   "cell_type": "markdown",
   "metadata": {},
   "source": [
    "### The features we will be using are described in the code comments below. Extract these feature columns and target column from the dataset. We will only use these features."
   ]
  },
  {
   "cell_type": "code",
   "execution_count": 24,
   "metadata": {},
   "outputs": [],
   "source": [
    "target = 'safe_loans'\n",
    "features = ['grade',                     # grade of the loan (categorical)\n",
    "            'sub_grade_num',             # sub-grade of the loan as a number from 0 to 1\n",
    "            'short_emp',                 # one year or less of employment\n",
    "            'emp_length_num',            # number of years of employment\n",
    "            'home_ownership',            # home_ownership status: own, mortgage or rent\n",
    "            'dti',                       # debt to income ratio\n",
    "            'purpose',                   # the purpose of the loan\n",
    "            'payment_inc_ratio',         # ratio of the monthly payment to income\n",
    "            'delinq_2yrs',               # number of delinquincies\n",
    "             'delinq_2yrs_zero',          # no delinquincies in last 2 years\n",
    "            'inq_last_6mths',            # number of creditor inquiries in last 6 months\n",
    "            'last_delinq_none',          # has borrower had a delinquincy\n",
    "            'last_major_derog_none',     # has borrower had 90 day or worse rating\n",
    "            'open_acc',                  # number of open credit accounts\n",
    "            'pub_rec',                   # number of derogatory public records\n",
    "            'pub_rec_zero',              # no derogatory public records\n",
    "            'revol_util',                # percent of available credit being used\n",
    "            'total_rec_late_fee',        # total late fees received to day\n",
    "            'int_rate',                  # interest rate of the loan\n",
    "            'total_rec_int',             # interest received to date\n",
    "            'annual_inc',                # annual income of borrower\n",
    "            'funded_amnt',               # amount committed to the loan\n",
    "            'funded_amnt_inv',           # amount committed by investors for the loan\n",
    "            'installment',               # monthly payment owed by the borrower\n",
    "           ]"
   ]
  },
  {
   "cell_type": "markdown",
   "metadata": {},
   "source": [
    "### Skipping observations with missing values\n",
    "\n",
    "Recall from the lectures that one common approach to coping with missing values is to skip observations that contain missing values."
   ]
  },
  {
   "cell_type": "code",
   "execution_count": 25,
   "metadata": {},
   "outputs": [],
   "source": [
    "loans = loans[[target] + features]"
   ]
  },
  {
   "cell_type": "code",
   "execution_count": 26,
   "metadata": {},
   "outputs": [
    {
     "data": {
      "text/plain": [
       "122607"
      ]
     },
     "execution_count": 26,
     "metadata": {},
     "output_type": "execute_result"
    }
   ],
   "source": [
    "len(loans)"
   ]
  },
  {
   "cell_type": "code",
   "execution_count": 27,
   "metadata": {},
   "outputs": [],
   "source": [
    "loans.dropna(inplace=True)"
   ]
  },
  {
   "cell_type": "code",
   "execution_count": 28,
   "metadata": {},
   "outputs": [
    {
     "data": {
      "text/plain": [
       "122578"
      ]
     },
     "execution_count": 28,
     "metadata": {},
     "output_type": "execute_result"
    }
   ],
   "source": [
    "len(loans)"
   ]
  },
  {
   "cell_type": "code",
   "execution_count": 29,
   "metadata": {},
   "outputs": [
    {
     "data": {
      "text/plain": [
       "Index(['safe_loans', 'grade', 'sub_grade_num', 'short_emp', 'emp_length_num',\n",
       "       'home_ownership', 'dti', 'purpose', 'payment_inc_ratio', 'delinq_2yrs',\n",
       "       'delinq_2yrs_zero', 'inq_last_6mths', 'last_delinq_none',\n",
       "       'last_major_derog_none', 'open_acc', 'pub_rec', 'pub_rec_zero',\n",
       "       'revol_util', 'total_rec_late_fee', 'int_rate', 'total_rec_int',\n",
       "       'annual_inc', 'funded_amnt', 'funded_amnt_inv', 'installment'],\n",
       "      dtype='object')"
      ]
     },
     "execution_count": 29,
     "metadata": {},
     "output_type": "execute_result"
    }
   ],
   "source": [
    "loans.columns"
   ]
  },
  {
   "cell_type": "markdown",
   "metadata": {},
   "source": [
    "### Apply one-hot encoding to loans.\n",
    "For scikit-learn's decision tree implementation, it numerical values for it's data matrix. This means you will have to turn categorical variables into binary features via one-hot encoding.\n",
    "\n",
    "Note that the column names are slightly different now, since we used one-hot encoding."
   ]
  },
  {
   "cell_type": "code",
   "execution_count": 30,
   "metadata": {},
   "outputs": [
    {
     "data": {
      "text/html": [
       "<div>\n",
       "<style scoped>\n",
       "    .dataframe tbody tr th:only-of-type {\n",
       "        vertical-align: middle;\n",
       "    }\n",
       "\n",
       "    .dataframe tbody tr th {\n",
       "        vertical-align: top;\n",
       "    }\n",
       "\n",
       "    .dataframe thead th {\n",
       "        text-align: right;\n",
       "    }\n",
       "</style>\n",
       "<table border=\"1\" class=\"dataframe\">\n",
       "  <thead>\n",
       "    <tr style=\"text-align: right;\">\n",
       "      <th></th>\n",
       "      <th>safe_loans</th>\n",
       "      <th>grade</th>\n",
       "      <th>sub_grade_num</th>\n",
       "      <th>short_emp</th>\n",
       "      <th>emp_length_num</th>\n",
       "      <th>home_ownership</th>\n",
       "      <th>dti</th>\n",
       "      <th>purpose</th>\n",
       "      <th>payment_inc_ratio</th>\n",
       "      <th>delinq_2yrs</th>\n",
       "      <th>...</th>\n",
       "      <th>pub_rec</th>\n",
       "      <th>pub_rec_zero</th>\n",
       "      <th>revol_util</th>\n",
       "      <th>total_rec_late_fee</th>\n",
       "      <th>int_rate</th>\n",
       "      <th>total_rec_int</th>\n",
       "      <th>annual_inc</th>\n",
       "      <th>funded_amnt</th>\n",
       "      <th>funded_amnt_inv</th>\n",
       "      <th>installment</th>\n",
       "    </tr>\n",
       "  </thead>\n",
       "  <tbody>\n",
       "    <tr>\n",
       "      <th>0</th>\n",
       "      <td>1</td>\n",
       "      <td>B</td>\n",
       "      <td>0.4</td>\n",
       "      <td>0</td>\n",
       "      <td>11</td>\n",
       "      <td>RENT</td>\n",
       "      <td>27.65</td>\n",
       "      <td>credit_card</td>\n",
       "      <td>8.14350</td>\n",
       "      <td>0.0</td>\n",
       "      <td>...</td>\n",
       "      <td>0.0</td>\n",
       "      <td>1.0</td>\n",
       "      <td>83.7</td>\n",
       "      <td>0.00</td>\n",
       "      <td>10.65</td>\n",
       "      <td>861.07</td>\n",
       "      <td>24000.0</td>\n",
       "      <td>5000</td>\n",
       "      <td>4975</td>\n",
       "      <td>162.87</td>\n",
       "    </tr>\n",
       "    <tr>\n",
       "      <th>1</th>\n",
       "      <td>-1</td>\n",
       "      <td>C</td>\n",
       "      <td>0.8</td>\n",
       "      <td>1</td>\n",
       "      <td>1</td>\n",
       "      <td>RENT</td>\n",
       "      <td>1.00</td>\n",
       "      <td>car</td>\n",
       "      <td>2.39320</td>\n",
       "      <td>0.0</td>\n",
       "      <td>...</td>\n",
       "      <td>0.0</td>\n",
       "      <td>1.0</td>\n",
       "      <td>9.4</td>\n",
       "      <td>0.00</td>\n",
       "      <td>15.27</td>\n",
       "      <td>435.17</td>\n",
       "      <td>30000.0</td>\n",
       "      <td>2500</td>\n",
       "      <td>2500</td>\n",
       "      <td>59.83</td>\n",
       "    </tr>\n",
       "    <tr>\n",
       "      <th>2</th>\n",
       "      <td>1</td>\n",
       "      <td>C</td>\n",
       "      <td>1.0</td>\n",
       "      <td>0</td>\n",
       "      <td>11</td>\n",
       "      <td>RENT</td>\n",
       "      <td>8.72</td>\n",
       "      <td>small_business</td>\n",
       "      <td>8.25955</td>\n",
       "      <td>0.0</td>\n",
       "      <td>...</td>\n",
       "      <td>0.0</td>\n",
       "      <td>1.0</td>\n",
       "      <td>98.5</td>\n",
       "      <td>0.00</td>\n",
       "      <td>15.96</td>\n",
       "      <td>603.65</td>\n",
       "      <td>12252.0</td>\n",
       "      <td>2400</td>\n",
       "      <td>2400</td>\n",
       "      <td>84.33</td>\n",
       "    </tr>\n",
       "    <tr>\n",
       "      <th>3</th>\n",
       "      <td>1</td>\n",
       "      <td>C</td>\n",
       "      <td>0.2</td>\n",
       "      <td>0</td>\n",
       "      <td>11</td>\n",
       "      <td>RENT</td>\n",
       "      <td>20.00</td>\n",
       "      <td>other</td>\n",
       "      <td>8.27585</td>\n",
       "      <td>0.0</td>\n",
       "      <td>...</td>\n",
       "      <td>0.0</td>\n",
       "      <td>1.0</td>\n",
       "      <td>21.0</td>\n",
       "      <td>16.97</td>\n",
       "      <td>13.49</td>\n",
       "      <td>2209.33</td>\n",
       "      <td>49200.0</td>\n",
       "      <td>10000</td>\n",
       "      <td>10000</td>\n",
       "      <td>339.31</td>\n",
       "    </tr>\n",
       "    <tr>\n",
       "      <th>4</th>\n",
       "      <td>1</td>\n",
       "      <td>A</td>\n",
       "      <td>0.8</td>\n",
       "      <td>0</td>\n",
       "      <td>4</td>\n",
       "      <td>RENT</td>\n",
       "      <td>11.20</td>\n",
       "      <td>wedding</td>\n",
       "      <td>5.21533</td>\n",
       "      <td>0.0</td>\n",
       "      <td>...</td>\n",
       "      <td>0.0</td>\n",
       "      <td>1.0</td>\n",
       "      <td>28.3</td>\n",
       "      <td>0.00</td>\n",
       "      <td>7.90</td>\n",
       "      <td>631.38</td>\n",
       "      <td>36000.0</td>\n",
       "      <td>5000</td>\n",
       "      <td>5000</td>\n",
       "      <td>156.46</td>\n",
       "    </tr>\n",
       "  </tbody>\n",
       "</table>\n",
       "<p>5 rows × 25 columns</p>\n",
       "</div>"
      ],
      "text/plain": [
       "   safe_loans grade  sub_grade_num  short_emp  emp_length_num home_ownership  \\\n",
       "0           1     B            0.4          0              11           RENT   \n",
       "1          -1     C            0.8          1               1           RENT   \n",
       "2           1     C            1.0          0              11           RENT   \n",
       "3           1     C            0.2          0              11           RENT   \n",
       "4           1     A            0.8          0               4           RENT   \n",
       "\n",
       "     dti         purpose  payment_inc_ratio  delinq_2yrs     ...       \\\n",
       "0  27.65     credit_card            8.14350          0.0     ...        \n",
       "1   1.00             car            2.39320          0.0     ...        \n",
       "2   8.72  small_business            8.25955          0.0     ...        \n",
       "3  20.00           other            8.27585          0.0     ...        \n",
       "4  11.20         wedding            5.21533          0.0     ...        \n",
       "\n",
       "   pub_rec  pub_rec_zero  revol_util  total_rec_late_fee  int_rate  \\\n",
       "0      0.0           1.0        83.7                0.00     10.65   \n",
       "1      0.0           1.0         9.4                0.00     15.27   \n",
       "2      0.0           1.0        98.5                0.00     15.96   \n",
       "3      0.0           1.0        21.0               16.97     13.49   \n",
       "4      0.0           1.0        28.3                0.00      7.90   \n",
       "\n",
       "   total_rec_int  annual_inc  funded_amnt  funded_amnt_inv  installment  \n",
       "0         861.07     24000.0         5000             4975       162.87  \n",
       "1         435.17     30000.0         2500             2500        59.83  \n",
       "2         603.65     12252.0         2400             2400        84.33  \n",
       "3        2209.33     49200.0        10000            10000       339.31  \n",
       "4         631.38     36000.0         5000             5000       156.46  \n",
       "\n",
       "[5 rows x 25 columns]"
      ]
     },
     "execution_count": 30,
     "metadata": {},
     "output_type": "execute_result"
    }
   ],
   "source": [
    "loans.head()"
   ]
  },
  {
   "cell_type": "code",
   "execution_count": 31,
   "metadata": {},
   "outputs": [],
   "source": [
    "test = pd.get_dummies(loans)"
   ]
  },
  {
   "cell_type": "code",
   "execution_count": 35,
   "metadata": {},
   "outputs": [
    {
     "data": {
      "text/html": [
       "<div>\n",
       "<style scoped>\n",
       "    .dataframe tbody tr th:only-of-type {\n",
       "        vertical-align: middle;\n",
       "    }\n",
       "\n",
       "    .dataframe tbody tr th {\n",
       "        vertical-align: top;\n",
       "    }\n",
       "\n",
       "    .dataframe thead th {\n",
       "        text-align: right;\n",
       "    }\n",
       "</style>\n",
       "<table border=\"1\" class=\"dataframe\">\n",
       "  <thead>\n",
       "    <tr style=\"text-align: right;\">\n",
       "      <th></th>\n",
       "      <th>grade_A</th>\n",
       "      <th>grade_B</th>\n",
       "    </tr>\n",
       "  </thead>\n",
       "  <tbody>\n",
       "    <tr>\n",
       "      <th>0</th>\n",
       "      <td>0</td>\n",
       "      <td>1</td>\n",
       "    </tr>\n",
       "    <tr>\n",
       "      <th>1</th>\n",
       "      <td>0</td>\n",
       "      <td>0</td>\n",
       "    </tr>\n",
       "    <tr>\n",
       "      <th>2</th>\n",
       "      <td>0</td>\n",
       "      <td>0</td>\n",
       "    </tr>\n",
       "    <tr>\n",
       "      <th>3</th>\n",
       "      <td>0</td>\n",
       "      <td>0</td>\n",
       "    </tr>\n",
       "    <tr>\n",
       "      <th>4</th>\n",
       "      <td>1</td>\n",
       "      <td>0</td>\n",
       "    </tr>\n",
       "  </tbody>\n",
       "</table>\n",
       "</div>"
      ],
      "text/plain": [
       "   grade_A  grade_B\n",
       "0        0        1\n",
       "1        0        0\n",
       "2        0        0\n",
       "3        0        0\n",
       "4        1        0"
      ]
     },
     "execution_count": 35,
     "metadata": {},
     "output_type": "execute_result"
    }
   ],
   "source": [
    "test.head()[['grade_A', 'grade_B']]"
   ]
  },
  {
   "cell_type": "code",
   "execution_count": 36,
   "metadata": {},
   "outputs": [],
   "source": [
    "loans = pd.get_dummies(loans)"
   ]
  },
  {
   "cell_type": "code",
   "execution_count": 37,
   "metadata": {},
   "outputs": [],
   "source": [
    "train_idx = pd.read_json('module-8-assignment-1-train-idx.json')\n",
    "validation_idx = pd.read_json('module-8-assignment-1-validation-idx.json')"
   ]
  },
  {
   "cell_type": "code",
   "execution_count": 42,
   "metadata": {},
   "outputs": [],
   "source": [
    "train_data = loans.iloc[train_idx[0]]"
   ]
  },
  {
   "cell_type": "code",
   "execution_count": 43,
   "metadata": {},
   "outputs": [],
   "source": [
    "validation_data = loans.iloc[validation_idx[0]]"
   ]
  },
  {
   "cell_type": "code",
   "execution_count": 44,
   "metadata": {},
   "outputs": [
    {
     "data": {
      "text/html": [
       "<div>\n",
       "<style scoped>\n",
       "    .dataframe tbody tr th:only-of-type {\n",
       "        vertical-align: middle;\n",
       "    }\n",
       "\n",
       "    .dataframe tbody tr th {\n",
       "        vertical-align: top;\n",
       "    }\n",
       "\n",
       "    .dataframe thead th {\n",
       "        text-align: right;\n",
       "    }\n",
       "</style>\n",
       "<table border=\"1\" class=\"dataframe\">\n",
       "  <thead>\n",
       "    <tr style=\"text-align: right;\">\n",
       "      <th></th>\n",
       "      <th>safe_loans</th>\n",
       "      <th>sub_grade_num</th>\n",
       "      <th>short_emp</th>\n",
       "      <th>emp_length_num</th>\n",
       "      <th>dti</th>\n",
       "      <th>payment_inc_ratio</th>\n",
       "      <th>delinq_2yrs</th>\n",
       "      <th>delinq_2yrs_zero</th>\n",
       "      <th>inq_last_6mths</th>\n",
       "      <th>last_delinq_none</th>\n",
       "      <th>...</th>\n",
       "      <th>purpose_debt_consolidation</th>\n",
       "      <th>purpose_home_improvement</th>\n",
       "      <th>purpose_house</th>\n",
       "      <th>purpose_major_purchase</th>\n",
       "      <th>purpose_medical</th>\n",
       "      <th>purpose_moving</th>\n",
       "      <th>purpose_other</th>\n",
       "      <th>purpose_small_business</th>\n",
       "      <th>purpose_vacation</th>\n",
       "      <th>purpose_wedding</th>\n",
       "    </tr>\n",
       "  </thead>\n",
       "  <tbody>\n",
       "    <tr>\n",
       "      <th>1</th>\n",
       "      <td>-1</td>\n",
       "      <td>0.8</td>\n",
       "      <td>1</td>\n",
       "      <td>1</td>\n",
       "      <td>1.00</td>\n",
       "      <td>2.39320</td>\n",
       "      <td>0.0</td>\n",
       "      <td>1.0</td>\n",
       "      <td>5.0</td>\n",
       "      <td>1</td>\n",
       "      <td>...</td>\n",
       "      <td>0</td>\n",
       "      <td>0</td>\n",
       "      <td>0</td>\n",
       "      <td>0</td>\n",
       "      <td>0</td>\n",
       "      <td>0</td>\n",
       "      <td>0</td>\n",
       "      <td>0</td>\n",
       "      <td>0</td>\n",
       "      <td>0</td>\n",
       "    </tr>\n",
       "    <tr>\n",
       "      <th>6</th>\n",
       "      <td>-1</td>\n",
       "      <td>0.4</td>\n",
       "      <td>0</td>\n",
       "      <td>5</td>\n",
       "      <td>5.55</td>\n",
       "      <td>4.57170</td>\n",
       "      <td>0.0</td>\n",
       "      <td>1.0</td>\n",
       "      <td>2.0</td>\n",
       "      <td>1</td>\n",
       "      <td>...</td>\n",
       "      <td>0</td>\n",
       "      <td>0</td>\n",
       "      <td>0</td>\n",
       "      <td>0</td>\n",
       "      <td>0</td>\n",
       "      <td>0</td>\n",
       "      <td>0</td>\n",
       "      <td>1</td>\n",
       "      <td>0</td>\n",
       "      <td>0</td>\n",
       "    </tr>\n",
       "    <tr>\n",
       "      <th>7</th>\n",
       "      <td>-1</td>\n",
       "      <td>1.0</td>\n",
       "      <td>1</td>\n",
       "      <td>1</td>\n",
       "      <td>18.08</td>\n",
       "      <td>9.71600</td>\n",
       "      <td>0.0</td>\n",
       "      <td>1.0</td>\n",
       "      <td>0.0</td>\n",
       "      <td>1</td>\n",
       "      <td>...</td>\n",
       "      <td>0</td>\n",
       "      <td>0</td>\n",
       "      <td>0</td>\n",
       "      <td>0</td>\n",
       "      <td>0</td>\n",
       "      <td>0</td>\n",
       "      <td>1</td>\n",
       "      <td>0</td>\n",
       "      <td>0</td>\n",
       "      <td>0</td>\n",
       "    </tr>\n",
       "    <tr>\n",
       "      <th>10</th>\n",
       "      <td>-1</td>\n",
       "      <td>0.2</td>\n",
       "      <td>1</td>\n",
       "      <td>1</td>\n",
       "      <td>10.08</td>\n",
       "      <td>12.21520</td>\n",
       "      <td>0.0</td>\n",
       "      <td>1.0</td>\n",
       "      <td>1.0</td>\n",
       "      <td>1</td>\n",
       "      <td>...</td>\n",
       "      <td>1</td>\n",
       "      <td>0</td>\n",
       "      <td>0</td>\n",
       "      <td>0</td>\n",
       "      <td>0</td>\n",
       "      <td>0</td>\n",
       "      <td>0</td>\n",
       "      <td>0</td>\n",
       "      <td>0</td>\n",
       "      <td>0</td>\n",
       "    </tr>\n",
       "    <tr>\n",
       "      <th>12</th>\n",
       "      <td>-1</td>\n",
       "      <td>0.4</td>\n",
       "      <td>0</td>\n",
       "      <td>4</td>\n",
       "      <td>7.06</td>\n",
       "      <td>3.90888</td>\n",
       "      <td>0.0</td>\n",
       "      <td>1.0</td>\n",
       "      <td>2.0</td>\n",
       "      <td>1</td>\n",
       "      <td>...</td>\n",
       "      <td>0</td>\n",
       "      <td>0</td>\n",
       "      <td>0</td>\n",
       "      <td>0</td>\n",
       "      <td>0</td>\n",
       "      <td>0</td>\n",
       "      <td>1</td>\n",
       "      <td>0</td>\n",
       "      <td>0</td>\n",
       "      <td>0</td>\n",
       "    </tr>\n",
       "  </tbody>\n",
       "</table>\n",
       "<p>5 rows × 45 columns</p>\n",
       "</div>"
      ],
      "text/plain": [
       "    safe_loans  sub_grade_num  short_emp  emp_length_num    dti  \\\n",
       "1           -1            0.8          1               1   1.00   \n",
       "6           -1            0.4          0               5   5.55   \n",
       "7           -1            1.0          1               1  18.08   \n",
       "10          -1            0.2          1               1  10.08   \n",
       "12          -1            0.4          0               4   7.06   \n",
       "\n",
       "    payment_inc_ratio  delinq_2yrs  delinq_2yrs_zero  inq_last_6mths  \\\n",
       "1             2.39320          0.0               1.0             5.0   \n",
       "6             4.57170          0.0               1.0             2.0   \n",
       "7             9.71600          0.0               1.0             0.0   \n",
       "10           12.21520          0.0               1.0             1.0   \n",
       "12            3.90888          0.0               1.0             2.0   \n",
       "\n",
       "    last_delinq_none       ...         purpose_debt_consolidation  \\\n",
       "1                  1       ...                                  0   \n",
       "6                  1       ...                                  0   \n",
       "7                  1       ...                                  0   \n",
       "10                 1       ...                                  1   \n",
       "12                 1       ...                                  0   \n",
       "\n",
       "    purpose_home_improvement  purpose_house  purpose_major_purchase  \\\n",
       "1                          0              0                       0   \n",
       "6                          0              0                       0   \n",
       "7                          0              0                       0   \n",
       "10                         0              0                       0   \n",
       "12                         0              0                       0   \n",
       "\n",
       "    purpose_medical  purpose_moving  purpose_other  purpose_small_business  \\\n",
       "1                 0               0              0                       0   \n",
       "6                 0               0              0                       1   \n",
       "7                 0               0              1                       0   \n",
       "10                0               0              0                       0   \n",
       "12                0               0              1                       0   \n",
       "\n",
       "    purpose_vacation  purpose_wedding  \n",
       "1                  0                0  \n",
       "6                  0                0  \n",
       "7                  0                0  \n",
       "10                 0                0  \n",
       "12                 0                0  \n",
       "\n",
       "[5 rows x 45 columns]"
      ]
     },
     "execution_count": 44,
     "metadata": {},
     "output_type": "execute_result"
    }
   ],
   "source": [
    "train_data.head()"
   ]
  },
  {
   "cell_type": "markdown",
   "metadata": {},
   "source": [
    "### Gradient boosted tree classifier\n",
    "\n",
    "Gradient boosted trees are a powerful variant of boosting methods; they have been used to win many Kaggle competitions, and have been widely used in industry. We will explore the predictive power of multiple decision trees as opposed to a single decision tree.\n",
    "\n",
    "Additional reading: If you are interested in gradient boosted trees, here is some additional reading material:\n",
    "\n",
    "We will now train models to predict safe_loans using the features above. In this section, we will experiment with training an ensemble of 5 trees.\n",
    "\n",
    "Now, let's use the built-in scikit learn gradient boosting classifier (sklearn.ensemble.GradientBoostingClassifier) to create a gradient boosted classifier on the training data. You will need to import sklearn, sklearn.ensemble, and numpy.\n",
    "\n",
    "Official Documents:\n",
    "\n",
    "http://scikit-learn.org/stable/modules/generated/sklearn.ensemble.GradientBoostingClassifier.html\n",
    "\n",
    "Parameter Tuning:\n",
    "\n",
    "https://www.analyticsvidhya.com/blog/2016/02/complete-guide-parameter-tuning-gradient-boosting-gbm-python/\n",
    "\n",
    "You will have to first convert the SFrame into a numpy data matrix. See the API for more information. You will also have to extract the label column. Make sure to set max_depth=6 and n_estimators=5."
   ]
  },
  {
   "cell_type": "code",
   "execution_count": 39,
   "metadata": {},
   "outputs": [
    {
     "name": "stderr",
     "output_type": "stream",
     "text": [
      "f:\\anaconda\\lib\\site-packages\\sklearn\\ensemble\\weight_boosting.py:29: DeprecationWarning: numpy.core.umath_tests is an internal NumPy module and should not be imported. It will be removed in a future NumPy release.\n",
      "  from numpy.core.umath_tests import inner1d\n"
     ]
    }
   ],
   "source": [
    "from sklearn.ensemble import GradientBoostingClassifier"
   ]
  },
  {
   "cell_type": "code",
   "execution_count": 40,
   "metadata": {},
   "outputs": [],
   "source": [
    "model_5 = GradientBoostingClassifier(max_depth=6, n_estimators=5)"
   ]
  },
  {
   "cell_type": "markdown",
   "metadata": {},
   "source": [
    "### Making predictions\n",
    "\n",
    "Just like we did in previous sections, let us consider a few positive and negative examples from the validation set. We will do the following:\n",
    "\n",
    "Predict whether or not a loan is likely to default.\n",
    "\n",
    "Predict the probability with which the loan is likely to default."
   ]
  },
  {
   "cell_type": "markdown",
   "metadata": {},
   "source": [
    "### First, let's grab 2 positive examples and 2 negative examples. "
   ]
  },
  {
   "cell_type": "code",
   "execution_count": 45,
   "metadata": {},
   "outputs": [
    {
     "data": {
      "text/html": [
       "<div>\n",
       "<style scoped>\n",
       "    .dataframe tbody tr th:only-of-type {\n",
       "        vertical-align: middle;\n",
       "    }\n",
       "\n",
       "    .dataframe tbody tr th {\n",
       "        vertical-align: top;\n",
       "    }\n",
       "\n",
       "    .dataframe thead th {\n",
       "        text-align: right;\n",
       "    }\n",
       "</style>\n",
       "<table border=\"1\" class=\"dataframe\">\n",
       "  <thead>\n",
       "    <tr style=\"text-align: right;\">\n",
       "      <th></th>\n",
       "      <th>safe_loans</th>\n",
       "      <th>sub_grade_num</th>\n",
       "      <th>short_emp</th>\n",
       "      <th>emp_length_num</th>\n",
       "      <th>dti</th>\n",
       "      <th>payment_inc_ratio</th>\n",
       "      <th>delinq_2yrs</th>\n",
       "      <th>delinq_2yrs_zero</th>\n",
       "      <th>inq_last_6mths</th>\n",
       "      <th>last_delinq_none</th>\n",
       "      <th>...</th>\n",
       "      <th>purpose_debt_consolidation</th>\n",
       "      <th>purpose_home_improvement</th>\n",
       "      <th>purpose_house</th>\n",
       "      <th>purpose_major_purchase</th>\n",
       "      <th>purpose_medical</th>\n",
       "      <th>purpose_moving</th>\n",
       "      <th>purpose_other</th>\n",
       "      <th>purpose_small_business</th>\n",
       "      <th>purpose_vacation</th>\n",
       "      <th>purpose_wedding</th>\n",
       "    </tr>\n",
       "  </thead>\n",
       "  <tbody>\n",
       "    <tr>\n",
       "      <th>22</th>\n",
       "      <td>1</td>\n",
       "      <td>0.2</td>\n",
       "      <td>0</td>\n",
       "      <td>3</td>\n",
       "      <td>29.44</td>\n",
       "      <td>6.30496</td>\n",
       "      <td>0.0</td>\n",
       "      <td>1.0</td>\n",
       "      <td>0.0</td>\n",
       "      <td>1</td>\n",
       "      <td>...</td>\n",
       "      <td>0</td>\n",
       "      <td>0</td>\n",
       "      <td>0</td>\n",
       "      <td>0</td>\n",
       "      <td>0</td>\n",
       "      <td>0</td>\n",
       "      <td>0</td>\n",
       "      <td>0</td>\n",
       "      <td>0</td>\n",
       "      <td>0</td>\n",
       "    </tr>\n",
       "    <tr>\n",
       "      <th>26</th>\n",
       "      <td>1</td>\n",
       "      <td>0.6</td>\n",
       "      <td>1</td>\n",
       "      <td>1</td>\n",
       "      <td>12.19</td>\n",
       "      <td>13.49520</td>\n",
       "      <td>0.0</td>\n",
       "      <td>1.0</td>\n",
       "      <td>0.0</td>\n",
       "      <td>1</td>\n",
       "      <td>...</td>\n",
       "      <td>0</td>\n",
       "      <td>0</td>\n",
       "      <td>0</td>\n",
       "      <td>0</td>\n",
       "      <td>0</td>\n",
       "      <td>0</td>\n",
       "      <td>0</td>\n",
       "      <td>0</td>\n",
       "      <td>0</td>\n",
       "      <td>0</td>\n",
       "    </tr>\n",
       "    <tr>\n",
       "      <th>24</th>\n",
       "      <td>-1</td>\n",
       "      <td>0.4</td>\n",
       "      <td>0</td>\n",
       "      <td>3</td>\n",
       "      <td>13.97</td>\n",
       "      <td>2.96736</td>\n",
       "      <td>3.0</td>\n",
       "      <td>0.0</td>\n",
       "      <td>0.0</td>\n",
       "      <td>0</td>\n",
       "      <td>...</td>\n",
       "      <td>0</td>\n",
       "      <td>0</td>\n",
       "      <td>0</td>\n",
       "      <td>0</td>\n",
       "      <td>0</td>\n",
       "      <td>0</td>\n",
       "      <td>1</td>\n",
       "      <td>0</td>\n",
       "      <td>0</td>\n",
       "      <td>0</td>\n",
       "    </tr>\n",
       "    <tr>\n",
       "      <th>41</th>\n",
       "      <td>-1</td>\n",
       "      <td>1.0</td>\n",
       "      <td>0</td>\n",
       "      <td>11</td>\n",
       "      <td>16.33</td>\n",
       "      <td>1.90524</td>\n",
       "      <td>0.0</td>\n",
       "      <td>1.0</td>\n",
       "      <td>0.0</td>\n",
       "      <td>1</td>\n",
       "      <td>...</td>\n",
       "      <td>1</td>\n",
       "      <td>0</td>\n",
       "      <td>0</td>\n",
       "      <td>0</td>\n",
       "      <td>0</td>\n",
       "      <td>0</td>\n",
       "      <td>0</td>\n",
       "      <td>0</td>\n",
       "      <td>0</td>\n",
       "      <td>0</td>\n",
       "    </tr>\n",
       "  </tbody>\n",
       "</table>\n",
       "<p>4 rows × 45 columns</p>\n",
       "</div>"
      ],
      "text/plain": [
       "    safe_loans  sub_grade_num  short_emp  emp_length_num    dti  \\\n",
       "22           1            0.2          0               3  29.44   \n",
       "26           1            0.6          1               1  12.19   \n",
       "24          -1            0.4          0               3  13.97   \n",
       "41          -1            1.0          0              11  16.33   \n",
       "\n",
       "    payment_inc_ratio  delinq_2yrs  delinq_2yrs_zero  inq_last_6mths  \\\n",
       "22            6.30496          0.0               1.0             0.0   \n",
       "26           13.49520          0.0               1.0             0.0   \n",
       "24            2.96736          3.0               0.0             0.0   \n",
       "41            1.90524          0.0               1.0             0.0   \n",
       "\n",
       "    last_delinq_none       ...         purpose_debt_consolidation  \\\n",
       "22                 1       ...                                  0   \n",
       "26                 1       ...                                  0   \n",
       "24                 0       ...                                  0   \n",
       "41                 1       ...                                  1   \n",
       "\n",
       "    purpose_home_improvement  purpose_house  purpose_major_purchase  \\\n",
       "22                         0              0                       0   \n",
       "26                         0              0                       0   \n",
       "24                         0              0                       0   \n",
       "41                         0              0                       0   \n",
       "\n",
       "    purpose_medical  purpose_moving  purpose_other  purpose_small_business  \\\n",
       "22                0               0              0                       0   \n",
       "26                0               0              0                       0   \n",
       "24                0               0              1                       0   \n",
       "41                0               0              0                       0   \n",
       "\n",
       "    purpose_vacation  purpose_wedding  \n",
       "22                 0                0  \n",
       "26                 0                0  \n",
       "24                 0                0  \n",
       "41                 0                0  \n",
       "\n",
       "[4 rows x 45 columns]"
      ]
     },
     "execution_count": 45,
     "metadata": {},
     "output_type": "execute_result"
    }
   ],
   "source": [
    "validation_safe_loans = validation_data[validation_data[target] == 1]\n",
    "validation_risky_loans = validation_data[validation_data[target] == -1]\n",
    "\n",
    "sample_validation_data_risky = validation_risky_loans[0:2]\n",
    "sample_validation_data_safe = validation_safe_loans[0:2]\n",
    "\n",
    "sample_validation_data = sample_validation_data_safe.append(sample_validation_data_risky)\n",
    "sample_validation_data"
   ]
  },
  {
   "cell_type": "markdown",
   "metadata": {},
   "source": [
    "#### For each row in the sample_validation_data, write code to make model_5 predict whether or not the loan is classified as a safe loan."
   ]
  },
  {
   "cell_type": "code",
   "execution_count": 48,
   "metadata": {},
   "outputs": [],
   "source": [
    "feature_list = validation_data.columns.tolist()[1: ]"
   ]
  },
  {
   "cell_type": "code",
   "execution_count": 51,
   "metadata": {},
   "outputs": [
    {
     "data": {
      "text/plain": [
       "GradientBoostingClassifier(criterion='friedman_mse', init=None,\n",
       "              learning_rate=0.1, loss='deviance', max_depth=6,\n",
       "              max_features=None, max_leaf_nodes=None,\n",
       "              min_impurity_decrease=0.0, min_impurity_split=None,\n",
       "              min_samples_leaf=1, min_samples_split=2,\n",
       "              min_weight_fraction_leaf=0.0, n_estimators=5, presort='auto',\n",
       "              random_state=None, subsample=1.0, verbose=0,\n",
       "              warm_start=False)"
      ]
     },
     "execution_count": 51,
     "metadata": {},
     "output_type": "execute_result"
    }
   ],
   "source": [
    "model_5.fit(train_data[feature_list], train_data[target])"
   ]
  },
  {
   "cell_type": "code",
   "execution_count": 52,
   "metadata": {},
   "outputs": [
    {
     "data": {
      "text/plain": [
       "array([ 1,  1, -1,  1], dtype=int64)"
      ]
     },
     "execution_count": 52,
     "metadata": {},
     "output_type": "execute_result"
    }
   ],
   "source": [
    "model_5.predict(sample_validation_data[feature_list])"
   ]
  },
  {
   "cell_type": "code",
   "execution_count": 54,
   "metadata": {},
   "outputs": [
    {
     "data": {
      "text/plain": [
       "0.75"
      ]
     },
     "execution_count": 54,
     "metadata": {},
     "output_type": "execute_result"
    }
   ],
   "source": [
    "model_5.score(sample_validation_data[feature_list], sample_validation_data[target])"
   ]
  },
  {
   "cell_type": "markdown",
   "metadata": {},
   "source": [
    "### Prediction Probabilities\n",
    "#### For each row in the sample_validation_data, what is the probability (according model_5) of a loan being classified as safe? (Hint: if you are using scikit-learn, you can use the .predict_proba() method)"
   ]
  },
  {
   "cell_type": "code",
   "execution_count": 96,
   "metadata": {},
   "outputs": [
    {
     "data": {
      "text/plain": [
       "array([[0.41642331, 0.58357669],\n",
       "       [0.46949689, 0.53050311],\n",
       "       [0.53807792, 0.46192208],\n",
       "       [0.39591639, 0.60408361]])"
      ]
     },
     "execution_count": 96,
     "metadata": {},
     "output_type": "execute_result"
    }
   ],
   "source": [
    "model_5.predict_proba(sample_validation_data[feature_list])#[:, 1]"
   ]
  },
  {
   "cell_type": "markdown",
   "metadata": {},
   "source": [
    "### Evaluating the model on the validation data"
   ]
  },
  {
   "cell_type": "markdown",
   "metadata": {},
   "source": [
    "#### Evaluate the accuracy of the model_5 on the validation_data. (Hint: if you are using scikit-learn, you can use the .score() method)\n",
    "Calculate the number of false positives made by the model on the validation_data.\n",
    "\n",
    "accuracy = # correctly classified data points / # total data points"
   ]
  },
  {
   "cell_type": "code",
   "execution_count": 61,
   "metadata": {},
   "outputs": [
    {
     "data": {
      "text/plain": [
       "0.6613528651443343"
      ]
     },
     "execution_count": 61,
     "metadata": {},
     "output_type": "execute_result"
    }
   ],
   "source": [
    "model_5.score(validation_data[feature_list], validation_data[target])"
   ]
  },
  {
   "cell_type": "code",
   "execution_count": 63,
   "metadata": {},
   "outputs": [
    {
     "data": {
      "text/plain": [
       "0.6613528651443343"
      ]
     },
     "execution_count": 63,
     "metadata": {},
     "output_type": "execute_result"
    }
   ],
   "source": [
    "np.sum(model_5.predict(validation_data[feature_list]) == validation_data[target]) / len(validation_data)"
   ]
  },
  {
   "cell_type": "markdown",
   "metadata": {},
   "source": [
    "#### Calculate the number of false negatives made by the model on the validation_data.\n",
    "##### https://developers.google.com/machine-learning/crash-course/classification/true-false-positive-negative\n",
    "##### https://stackoverflow.com/questions/31324218/scikit-learn-how-to-obtain-true-positive-true-negative-false-positive-and-fal"
   ]
  },
  {
   "cell_type": "code",
   "execution_count": 64,
   "metadata": {},
   "outputs": [],
   "source": [
    "predict_result = model_5.predict(validation_data[feature_list])"
   ]
  },
  {
   "cell_type": "code",
   "execution_count": 69,
   "metadata": {},
   "outputs": [
    {
     "name": "stdout",
     "output_type": "stream",
     "text": [
      "False Negative is 1491\n",
      "False Positive is 1653\n"
     ]
    }
   ],
   "source": [
    "FN = 0\n",
    "FP = 0\n",
    "for i in range(len(predict_result)):\n",
    "    if predict_result[i] == -1 and validation_data[target].iloc[i] == 1:\n",
    "        FN += 1\n",
    "    if predict_result[i] == 1 and validation_data[target].iloc[i] == -1:\n",
    "        FP += 1\n",
    "print(\"False Negative is {}\".format(FN))\n",
    "print(\"False Positive is {}\".format(FP))"
   ]
  },
  {
   "cell_type": "markdown",
   "metadata": {},
   "source": [
    "### Comparison with decision trees \n",
    "In the earlier assignment, we saw that the prediction accuracy of the decision trees was around 0.64. In this assignment, we saw that model_5 has an accuracy of approximately 0.67.\n",
    "\n",
    "Here, we quantify the benefit of the extra 3% increase in accuracy of model_5 in comparison with a single decision tree from the original decision tree assignment.\n",
    "\n",
    "As we explored in the earlier assignment, we calculated the cost of the mistakes made by the model. We again consider the same costs as follows:\n",
    "\n",
    "False negatives: Assume a cost of $10,000 per false negative.\n",
    "False positives: Assume a cost of $20,000 per false positive.\n",
    "Assume that the number of false positives and false negatives for the learned decision tree was\n",
    "\n",
    "False negatives: 1936\n",
    "False positives: 1503\n",
    "Using the costs defined above and the number of false positives and false negatives for the decision tree, we can calculate the total cost of the mistakes made by the decision tree model as follows:\n",
    "\n",
    "cost = $10,000 * 1936  + $20,000 * 1503 = $49,420,000\n",
    "\n",
    "Calculate the cost of mistakes made by model_5 on the validation_data."
   ]
  },
  {
   "cell_type": "code",
   "execution_count": 72,
   "metadata": {},
   "outputs": [
    {
     "data": {
      "text/plain": [
       "47970000.0"
      ]
     },
     "execution_count": 72,
     "metadata": {},
     "output_type": "execute_result"
    }
   ],
   "source": [
    "(1e4 * 1491 + 2e4 * 1653)# < 49320000"
   ]
  },
  {
   "cell_type": "markdown",
   "metadata": {},
   "source": [
    "#### Most positive & negative loans.\n",
    "In this section, we will find the loans that are most likely to be predicted safe. We can do this in a few steps:\n",
    "\n",
    "1. Use the model_5 (the model with 5 trees) and make probability predictions for all the loans in validation_data.\n",
    "2. Similar to what we did in the very first assignment, add the probability predictions as a column called predictions into validation_data.\n",
    "3. Sort the data (in descreasing order) by the probability predictions.\n",
    "\n",
    "Start here with Step 1 & Step 2. Make predictions using model_5 for all examples in the validation_data.\n",
    "\n",
    "Checkpoint: For each row, the probabilities should be a number in the range [0, 1].\n",
    "\n",
    "Now, we are ready to go to Step 3. You can now use the prediction column to sort the loans in validation_data (in descending order) by prediction probability. Find the top 5 loans with the highest probability of being predicted as a safe loan."
   ]
  },
  {
   "cell_type": "code",
   "execution_count": 77,
   "metadata": {},
   "outputs": [
    {
     "name": "stderr",
     "output_type": "stream",
     "text": [
      "f:\\anaconda\\lib\\site-packages\\ipykernel_launcher.py:2: SettingWithCopyWarning: \n",
      "A value is trying to be set on a copy of a slice from a DataFrame.\n",
      "Try using .loc[row_indexer,col_indexer] = value instead\n",
      "\n",
      "See the caveats in the documentation: http://pandas.pydata.org/pandas-docs/stable/indexing.html#indexing-view-versus-copy\n",
      "  \n"
     ]
    }
   ],
   "source": [
    "# set the probability of +1 as the value of predictions\n",
    "validation_data['predictions'] = model_5.predict_proba(validation_data[feature_list])[:, 1]"
   ]
  },
  {
   "cell_type": "code",
   "execution_count": 84,
   "metadata": {},
   "outputs": [
    {
     "data": {
      "text/html": [
       "<div>\n",
       "<style scoped>\n",
       "    .dataframe tbody tr th:only-of-type {\n",
       "        vertical-align: middle;\n",
       "    }\n",
       "\n",
       "    .dataframe tbody tr th {\n",
       "        vertical-align: top;\n",
       "    }\n",
       "\n",
       "    .dataframe thead th {\n",
       "        text-align: right;\n",
       "    }\n",
       "</style>\n",
       "<table border=\"1\" class=\"dataframe\">\n",
       "  <thead>\n",
       "    <tr style=\"text-align: right;\">\n",
       "      <th></th>\n",
       "      <th>grade_A</th>\n",
       "      <th>grade_B</th>\n",
       "      <th>grade_C</th>\n",
       "      <th>grade_D</th>\n",
       "      <th>predictions</th>\n",
       "    </tr>\n",
       "  </thead>\n",
       "  <tbody>\n",
       "    <tr>\n",
       "      <th>8021</th>\n",
       "      <td>1</td>\n",
       "      <td>0</td>\n",
       "      <td>0</td>\n",
       "      <td>0</td>\n",
       "      <td>0.673059</td>\n",
       "    </tr>\n",
       "    <tr>\n",
       "      <th>15960</th>\n",
       "      <td>1</td>\n",
       "      <td>0</td>\n",
       "      <td>0</td>\n",
       "      <td>0</td>\n",
       "      <td>0.661468</td>\n",
       "    </tr>\n",
       "    <tr>\n",
       "      <th>5516</th>\n",
       "      <td>1</td>\n",
       "      <td>0</td>\n",
       "      <td>0</td>\n",
       "      <td>0</td>\n",
       "      <td>0.661468</td>\n",
       "    </tr>\n",
       "    <tr>\n",
       "      <th>47586</th>\n",
       "      <td>1</td>\n",
       "      <td>0</td>\n",
       "      <td>0</td>\n",
       "      <td>0</td>\n",
       "      <td>0.661468</td>\n",
       "    </tr>\n",
       "    <tr>\n",
       "      <th>22958</th>\n",
       "      <td>1</td>\n",
       "      <td>0</td>\n",
       "      <td>0</td>\n",
       "      <td>0</td>\n",
       "      <td>0.661468</td>\n",
       "    </tr>\n",
       "  </tbody>\n",
       "</table>\n",
       "</div>"
      ],
      "text/plain": [
       "       grade_A  grade_B  grade_C  grade_D  predictions\n",
       "8021         1        0        0        0     0.673059\n",
       "15960        1        0        0        0     0.661468\n",
       "5516         1        0        0        0     0.661468\n",
       "47586        1        0        0        0     0.661468\n",
       "22958        1        0        0        0     0.661468"
      ]
     },
     "execution_count": 84,
     "metadata": {},
     "output_type": "execute_result"
    }
   ],
   "source": [
    "validation_data[['grade_A', 'grade_B', 'grade_C', 'grade_D', 'predictions']].sort_values(['predictions'], \n",
    "                                                                                         ascending=False).head()"
   ]
  },
  {
   "cell_type": "code",
   "execution_count": 97,
   "metadata": {},
   "outputs": [
    {
     "name": "stderr",
     "output_type": "stream",
     "text": [
      "f:\\anaconda\\lib\\site-packages\\ipykernel_launcher.py:3: UserWarning: Boolean Series key will be reindexed to match DataFrame index.\n",
      "  This is separate from the ipykernel package so we can avoid doing imports until\n"
     ]
    },
    {
     "data": {
      "text/html": [
       "<div>\n",
       "<style scoped>\n",
       "    .dataframe tbody tr th:only-of-type {\n",
       "        vertical-align: middle;\n",
       "    }\n",
       "\n",
       "    .dataframe tbody tr th {\n",
       "        vertical-align: top;\n",
       "    }\n",
       "\n",
       "    .dataframe thead th {\n",
       "        text-align: right;\n",
       "    }\n",
       "</style>\n",
       "<table border=\"1\" class=\"dataframe\">\n",
       "  <thead>\n",
       "    <tr style=\"text-align: right;\">\n",
       "      <th></th>\n",
       "      <th>grade_A</th>\n",
       "      <th>grade_B</th>\n",
       "      <th>grade_C</th>\n",
       "      <th>grade_D</th>\n",
       "      <th>predictions</th>\n",
       "    </tr>\n",
       "  </thead>\n",
       "  <tbody>\n",
       "    <tr>\n",
       "      <th>122269</th>\n",
       "      <td>0</td>\n",
       "      <td>0</td>\n",
       "      <td>1</td>\n",
       "      <td>0</td>\n",
       "      <td>0.526161</td>\n",
       "    </tr>\n",
       "    <tr>\n",
       "      <th>122307</th>\n",
       "      <td>0</td>\n",
       "      <td>0</td>\n",
       "      <td>1</td>\n",
       "      <td>0</td>\n",
       "      <td>0.522023</td>\n",
       "    </tr>\n",
       "    <tr>\n",
       "      <th>122354</th>\n",
       "      <td>0</td>\n",
       "      <td>1</td>\n",
       "      <td>0</td>\n",
       "      <td>0</td>\n",
       "      <td>0.526925</td>\n",
       "    </tr>\n",
       "    <tr>\n",
       "      <th>122421</th>\n",
       "      <td>0</td>\n",
       "      <td>0</td>\n",
       "      <td>1</td>\n",
       "      <td>0</td>\n",
       "      <td>0.523047</td>\n",
       "    </tr>\n",
       "    <tr>\n",
       "      <th>122436</th>\n",
       "      <td>1</td>\n",
       "      <td>0</td>\n",
       "      <td>0</td>\n",
       "      <td>0</td>\n",
       "      <td>0.579741</td>\n",
       "    </tr>\n",
       "  </tbody>\n",
       "</table>\n",
       "</div>"
      ],
      "text/plain": [
       "        grade_A  grade_B  grade_C  grade_D  predictions\n",
       "122269        0        0        1        0     0.526161\n",
       "122307        0        0        1        0     0.522023\n",
       "122354        0        1        0        0     0.526925\n",
       "122421        0        0        1        0     0.523047\n",
       "122436        1        0        0        0     0.579741"
      ]
     },
     "execution_count": 97,
     "metadata": {},
     "output_type": "execute_result"
    }
   ],
   "source": [
    "mylist = ['grade_A', 'grade_B', 'grade_C', 'grade_D', 'predictions']\n",
    "validation_data[validation_data[mylist].sort_values(['predictions'], \n",
    "                                                    ascending=True)['predictions'] > 0.5].tail()[mylist]"
   ]
  },
  {
   "cell_type": "markdown",
   "metadata": {},
   "source": [
    "#### Effects of adding more trees\n",
    "In this assignment, we will train 5 different ensemble classifiers in the form of gradient boosted trees.\n",
    "\n",
    "Train models with 10, 50, 100, 200, and 500 trees. Use the n_estimators parameter to control the number of trees. Remember to keep max_depth = 6.\n",
    "\n",
    "Call these models model_10, model_50, model_100, model_200, and model_500, respectively. This may take a few minutes to run.\n",
    "\n",
    "Compare accuracy on entire validation set\n",
    "\n",
    "Now we will compare the predicitve accuracy of our models on the validation set.\n",
    "\n",
    "Evaluate the accuracy of the 10, 50, 100, 200, and 500 tree models on the validation_data.\n",
    "\n",
    "Quiz Question: Which model has the best accuracy on the validation_data?"
   ]
  },
  {
   "cell_type": "code",
   "execution_count": 98,
   "metadata": {},
   "outputs": [
    {
     "data": {
      "text/plain": [
       "GradientBoostingClassifier(criterion='friedman_mse', init=None,\n",
       "              learning_rate=0.1, loss='deviance', max_depth=6,\n",
       "              max_features=None, max_leaf_nodes=None,\n",
       "              min_impurity_decrease=0.0, min_impurity_split=None,\n",
       "              min_samples_leaf=1, min_samples_split=2,\n",
       "              min_weight_fraction_leaf=0.0, n_estimators=10,\n",
       "              presort='auto', random_state=None, subsample=1.0, verbose=0,\n",
       "              warm_start=False)"
      ]
     },
     "execution_count": 98,
     "metadata": {},
     "output_type": "execute_result"
    }
   ],
   "source": [
    "model_10 = GradientBoostingClassifier(max_depth=6, n_estimators=10)\n",
    "model_10.fit(train_data[feature_list], train_data[target])"
   ]
  },
  {
   "cell_type": "code",
   "execution_count": 99,
   "metadata": {},
   "outputs": [
    {
     "data": {
      "text/plain": [
       "GradientBoostingClassifier(criterion='friedman_mse', init=None,\n",
       "              learning_rate=0.1, loss='deviance', max_depth=6,\n",
       "              max_features=None, max_leaf_nodes=None,\n",
       "              min_impurity_decrease=0.0, min_impurity_split=None,\n",
       "              min_samples_leaf=1, min_samples_split=2,\n",
       "              min_weight_fraction_leaf=0.0, n_estimators=500,\n",
       "              presort='auto', random_state=None, subsample=1.0, verbose=0,\n",
       "              warm_start=False)"
      ]
     },
     "execution_count": 99,
     "metadata": {},
     "output_type": "execute_result"
    }
   ],
   "source": [
    "model_50 = GradientBoostingClassifier(max_depth=6, n_estimators=50)\n",
    "model_50.fit(train_data[feature_list], train_data[target])\n",
    "\n",
    "model_100 = GradientBoostingClassifier(max_depth=6, n_estimators=100)\n",
    "model_100.fit(train_data[feature_list], train_data[target])\n",
    "\n",
    "model_200 = GradientBoostingClassifier(max_depth=6, n_estimators=200)\n",
    "model_200.fit(train_data[feature_list], train_data[target])\n",
    "\n",
    "model_500 = GradientBoostingClassifier(max_depth=6, n_estimators=500)\n",
    "model_500.fit(train_data[feature_list], train_data[target])"
   ]
  },
  {
   "cell_type": "code",
   "execution_count": 100,
   "metadata": {},
   "outputs": [
    {
     "name": "stdout",
     "output_type": "stream",
     "text": [
      "Model 10 Accuracy is 0.6664153382162861\n",
      "Model 50 Accuracy is 0.683649289099526\n",
      "Model 100 Accuracy is 0.6896811719086601\n",
      "Model 200 Accuracy is 0.6864498061180526\n",
      "Model 500 Accuracy is 0.6865575183110728\n"
     ]
    }
   ],
   "source": [
    "print('Model 10 Accuracy is {}'.format(model_10.score(validation_data[feature_list], validation_data[target])))\n",
    "print('Model 50 Accuracy is {}'.format(model_50.score(validation_data[feature_list], validation_data[target])))\n",
    "print('Model 100 Accuracy is {}'.format(model_100.score(validation_data[feature_list], validation_data[target])))\n",
    "print('Model 200 Accuracy is {}'.format(model_200.score(validation_data[feature_list], validation_data[target])))\n",
    "print('Model 500 Accuracy is {}'.format(model_500.score(validation_data[feature_list], validation_data[target])))"
   ]
  },
  {
   "cell_type": "markdown",
   "metadata": {},
   "source": [
    "### Plot the training and validation error vs. number of trees\n",
    "\n",
    "Recall from the lecture that the classification error is defined as\n",
    "\n",
    "[classification error] = 1−[accuracy]\n",
    "\n",
    "In this section, we will plot the training and validation errors versus the number of trees to get a sense of how these models are performing. We will compare the 10, 50, 100, 200, and 500 tree models. You will need matplotlib in order to visualize the plots.\n",
    "\n",
    "Steps to follow:\n",
    "\n",
    "1. Calculate the classification error for each model on the training data (train_data).\n",
    "2. Store the training errors into a list (called training_errors) that looks like this: [train_err_10, train_err_50, ..., train_err_500]\n",
    "3. Calculate the classification error of each model on the validation data (validation_data).\n",
    "4. Store the validation classification error into a list (called validation_errors) that looks like this:[validation_err_10, validation_err_50, ..., validation_err_500]"
   ]
  },
  {
   "cell_type": "code",
   "execution_count": null,
   "metadata": {},
   "outputs": [],
   "source": [
    "import matplotlib.pyplot as plt\n",
    "%matplotlib inline"
   ]
  },
  {
   "cell_type": "code",
   "execution_count": 101,
   "metadata": {},
   "outputs": [],
   "source": [
    "validation_errors = [\n",
    "    1 - model_10.score(validation_data[feature_list], validation_data[target]),\n",
    "    1 - model_50.score(validation_data[feature_list], validation_data[target]),\n",
    "    1 - model_100.score(validation_data[feature_list], validation_data[target]),\n",
    "    1 - model_200.score(validation_data[feature_list], validation_data[target]),\n",
    "    1 - model_500.score(validation_data[feature_list], validation_data[target])\n",
    "]\n",
    "training_errors = [\n",
    "    1 - model_10.score(train_data[feature_list], train_data[target]),\n",
    "    1 - model_50.score(train_data[feature_list], train_data[target]),\n",
    "    1 - model_100.score(train_data[feature_list], train_data[target]),\n",
    "    1 - model_200.score(train_data[feature_list], train_data[target]),\n",
    "    1 - model_500.score(train_data[feature_list], train_data[target])\n",
    "]"
   ]
  },
  {
   "cell_type": "code",
   "execution_count": 102,
   "metadata": {},
   "outputs": [],
   "source": [
    "def make_figure(dim, title, xlabel, ylabel, legend):\n",
    "    plt.rcParams['figure.figsize'] = dim\n",
    "    plt.title(title)\n",
    "    plt.xlabel(xlabel)\n",
    "    plt.ylabel(ylabel)\n",
    "    if legend is not None:\n",
    "        plt.legend(loc=legend, prop={'size':15})\n",
    "    plt.rcParams.update({'font.size': 16})\n",
    "    plt.tight_layout()"
   ]
  },
  {
   "cell_type": "code",
   "execution_count": 106,
   "metadata": {},
   "outputs": [
    {
     "data": {
      "image/png": "[encoded data removed]",
      "text/plain": [
       "<Figure size 460.8x403.2 with 1 Axes>"
      ]
     },
     "metadata": {},
     "output_type": "display_data"
    }
   ],
   "source": [
    "plt.plot([10, 50, 100, 200, 500], training_errors, linewidth=4.0, label='Training error')\n",
    "plt.plot([10, 50, 100, 200, 500], validation_errors, linewidth=4.0, label='Validation error')\n",
    "\n",
    "make_figure(dim=(10,5), title='Error vs number of trees',\n",
    "            xlabel='Number of trees',\n",
    "            ylabel='Classification error',\n",
    "            legend='best')"
   ]
  },
  {
   "cell_type": "code",
   "execution_count": null,
   "metadata": {},
   "outputs": [],
   "source": []
  }
 ],
 "metadata": {
  "kernelspec": {
   "display_name": "Python 3",
   "language": "python",
   "name": "python3"
  },
  "language_info": {
   "codemirror_mode": {
    "name": "ipython",
    "version": 3
   },
   "file_extension": ".py",
   "mimetype": "text/x-python",
   "name": "python",
   "nbconvert_exporter": "python",
   "pygments_lexer": "ipython3",
   "version": "3.6.6"
  },
  "varInspector": {
   "cols": {
    "lenName": 16,
    "lenType": 16,
    "lenVar": 40
   },
   "kernels_config": {
    "python": {
     "delete_cmd_postfix": "",
     "delete_cmd_prefix": "del ",
     "library": "var_list.py",
     "varRefreshCmd": "print(var_dic_list())"
    },
    "r": {
     "delete_cmd_postfix": ") ",
     "delete_cmd_prefix": "rm(",
     "library": "var_list.r",
     "varRefreshCmd": "cat(var_dic_list()) "
    }
   },
   "types_to_exclude": [
    "module",
    "function",
    "builtin_function_or_method",
    "instance",
    "_Feature"
   ],
   "window_display": false
  }
 },
 "nbformat": 4,
 "nbformat_minor": 2
}
