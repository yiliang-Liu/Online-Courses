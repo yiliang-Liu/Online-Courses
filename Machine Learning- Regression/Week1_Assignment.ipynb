{
 "cells": [
  {
   "cell_type": "code",
   "execution_count": 2,
   "metadata": {},
   "outputs": [],
   "source": [
    "import numpy as np\n",
    "import pandas as pd"
   ]
  },
  {
   "cell_type": "markdown",
   "metadata": {},
   "source": [
    "#### Write a generic function that accepts a column of data (e.g, an SArray) ‘input_feature’ and another column ‘output’ and returns the Simple Linear Regression parameters ‘intercept’ and ‘slope’. Use the closed form solution from lecture to calculate the slope and intercept. "
   ]
  },
  {
   "cell_type": "code",
   "execution_count": null,
   "metadata": {},
   "outputs": [],
   "source": [
    "def simple_linear_regression(input_feature, output):\n",
    "    [your code here]\n",
    "return(intercept, slope)"
   ]
  },
  {
   "cell_type": "code",
   "execution_count": null,
   "metadata": {},
   "outputs": [],
   "source": [
    "kc_house_test_data = pd.read_csv('kc_house_test_data.csv')\n",
    "kc_house_train_data = pd.read_csv('kc_house_train_data.csv')"
   ]
  },
  {
   "cell_type": "code",
   "execution_count": 42,
   "metadata": {},
   "outputs": [],
   "source": [
    "def simple_liner_regression(input_feature, output):\n",
    "    numerator = np.sum(np.multiply(input_feature, output)) - (np.sum(input_feature) * np.sum(output)) / len(output)\n",
    "    denominator = np.sum(input_feature ** 2) - np.sum(input_feature) ** 2 / len(output)\n",
    "    slope = numerator / denominator\n",
    "    intercept = np.mean(output) - slope * np.mean(input_feature)\n",
    "    return intercept, slope"
   ]
  },
  {
   "cell_type": "markdown",
   "metadata": {},
   "source": [
    "#### Use your function to calculate the estimated slope and intercept on the training data to predict ‘price’ given ‘sqft_living’. "
   ]
  },
  {
   "cell_type": "code",
   "execution_count": 48,
   "metadata": {},
   "outputs": [],
   "source": [
    "squarefeet_intercept, squarefeet_slope = simple_liner_regression(kc_house_train_data['sqft_living'], \n",
    "                                                                 kc_house_train_data['price'])"
   ]
  },
  {
   "cell_type": "code",
   "execution_count": 53,
   "metadata": {},
   "outputs": [],
   "source": [
    "def get_regression_predictions(input_feature, intercept, slope):\n",
    "    predicted_output = input_feature * slope + intercept\n",
    "    return predicted_output"
   ]
  },
  {
   "cell_type": "code",
   "execution_count": 55,
   "metadata": {},
   "outputs": [
    {
     "data": {
      "text/plain": [
       "700074.8459475137"
      ]
     },
     "execution_count": 55,
     "metadata": {},
     "output_type": "execute_result"
    }
   ],
   "source": [
    "# What is the predicted price for a house with 2650 sqft?\n",
    "get_regression_predictions(2650, squarefeet_intercept, squarefeet_slope)"
   ]
  },
  {
   "cell_type": "code",
   "execution_count": 64,
   "metadata": {},
   "outputs": [],
   "source": [
    "def get_residual_sum_of_squares(input_feature, output, intercept, slope):\n",
    "    RSS = np.sum((input_feature * slope + intercept - output) ** 2)\n",
    "    return(RSS)"
   ]
  },
  {
   "cell_type": "code",
   "execution_count": 65,
   "metadata": {},
   "outputs": [
    {
     "data": {
      "text/plain": [
       "1201918354177283.0"
      ]
     },
     "execution_count": 65,
     "metadata": {},
     "output_type": "execute_result"
    }
   ],
   "source": [
    "get_residual_sum_of_squares(kc_house_train_data['sqft_living'], kc_house_train_data['price'],\n",
    "                            squarefeet_intercept, squarefeet_slope)"
   ]
  },
  {
   "cell_type": "code",
   "execution_count": 71,
   "metadata": {},
   "outputs": [],
   "source": [
    "def inverse_regression_predictions(output, intercept, slope):\n",
    "    estimated_input = (output - intercept) / slope\n",
    "    return estimated_input"
   ]
  },
  {
   "cell_type": "code",
   "execution_count": 72,
   "metadata": {},
   "outputs": [
    {
     "data": {
      "text/plain": [
       "3004.3962451522766"
      ]
     },
     "execution_count": 72,
     "metadata": {},
     "output_type": "execute_result"
    }
   ],
   "source": [
    "# what is the estimated square-feet for a house costing $800,000?\n",
    "inverse_regression_predictions(800000, squarefeet_intercept, squarefeet_slope)"
   ]
  },
  {
   "cell_type": "code",
   "execution_count": 73,
   "metadata": {},
   "outputs": [],
   "source": [
    "bedroom_intercept, bedroom_slope = simple_liner_regression(kc_house_train_data['bedrooms'], kc_house_train_data['price'])"
   ]
  },
  {
   "cell_type": "code",
   "execution_count": 76,
   "metadata": {},
   "outputs": [],
   "source": [
    "RSS_square = get_residual_sum_of_squares(kc_house_test_data['sqft_living'], kc_house_test_data['price'],\n",
    "                           squarefeet_intercept, squarefeet_slope)"
   ]
  },
  {
   "cell_type": "code",
   "execution_count": 77,
   "metadata": {},
   "outputs": [],
   "source": [
    "RSS_bedroom = get_residual_sum_of_squares(kc_house_test_data['bedrooms'], kc_house_test_data['price'],\n",
    "                           bedroom_intercept, bedroom_slope)"
   ]
  },
  {
   "cell_type": "code",
   "execution_count": 78,
   "metadata": {},
   "outputs": [
    {
     "data": {
      "text/plain": [
       "True"
      ]
     },
     "execution_count": 78,
     "metadata": {},
     "output_type": "execute_result"
    }
   ],
   "source": [
    "RSS_bedroom > RSS_square"
   ]
  },
  {
   "cell_type": "code",
   "execution_count": null,
   "metadata": {},
   "outputs": [],
   "source": []
  }
 ],
 "metadata": {
  "kernelspec": {
   "display_name": "Python 3",
   "language": "python",
   "name": "python3"
  },
  "language_info": {
   "codemirror_mode": {
    "name": "ipython",
    "version": 3
   },
   "file_extension": ".py",
   "mimetype": "text/x-python",
   "name": "python",
   "nbconvert_exporter": "python",
   "pygments_lexer": "ipython3",
   "version": "3.6.0"
  }
 },
 "nbformat": 4,
 "nbformat_minor": 2
}
